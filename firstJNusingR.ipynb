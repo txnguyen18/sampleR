{
 "cells": [
  {
   "cell_type": "markdown",
   "metadata": {},
   "source": [
    "### Trying Stanford Open Policing Project"
   ]
  },
  {
   "cell_type": "code",
   "execution_count": null,
   "metadata": {},
   "outputs": [],
   "source": [
    "\n",
    "## Load the data\n",
    "# Replace the path below with the path to where your data lives\n",
    "data_path <- ~/Desktop/tr137st9964_pa_philadelphia_2019_02_25.rds\n",
    "stops <- read_rds(data_path)\n",
    "\n",
    "# Additional data and fixed values we'll be using (UN Edit: from Census?!)\n",
    "population_2017 <- tibble(\n",
    "  subject_race = c(\n",
    "    \"asian/pacific islander\", \"black\", \"hispanic\", \"other/unknown\",\"white\"\n",
    "  ),\n",
    "  num_people = c(110864, 648846, 221777, 39858, 548312)\n",
    ") %>% \n",
    "  mutate(subject_race = as.factor(subject_race))\n",
    "\n",
    "center_lat <- 39.9525839\n",
    "center_lng <- -75.1652215\n",
    "\n",
    "colnames(stops)\n",
    "nrow(stops)"
   ]
  },
  {
   "cell_type": "markdown",
   "metadata": {},
   "source": [
    "# IT WORKED!!!"
   ]
  },
  {
   "cell_type": "code",
   "execution_count": null,
   "metadata": {},
   "outputs": [],
   "source": []
  }
 ],
 "metadata": {
  "kernelspec": {
   "display_name": "R",
   "language": "R",
   "name": "ir"
  },
  "language_info": {
   "codemirror_mode": "r",
   "file_extension": ".r",
   "mimetype": "text/x-r-source",
   "name": "R",
   "pygments_lexer": "r",
   "version": "3.5.2"
  }
 },
 "nbformat": 4,
 "nbformat_minor": 2
}
